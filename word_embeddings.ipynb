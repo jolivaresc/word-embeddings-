{
 "cells": [
  {
   "cell_type": "markdown",
   "metadata": {
    "deletable": true,
    "editable": true
   },
   "source": [
    "# Word embeddings usando Tensorflow\n",
    "\n",
    "\n",
    "Fuentes y más información:\n",
    "* https://medium.com/towards-data-science/learn-word2vec-by-implementing-it-in-tensorflow-45641adaf2ac\n",
    "* https://www.tensorflow.org/get_started/mnist/beginners\n",
    "* https://www.tensorflow.org/api_docs/python/tf/reduce_mean\n",
    "* http://mccormickml.com/2016/04/19/word2vec-tutorial-the-skip-gram-model/"
   ]
  },
  {
   "cell_type": "markdown",
   "metadata": {},
   "source": [
    "Bibliotecas necesarias"
   ]
  },
  {
   "cell_type": "code",
   "execution_count": 1,
   "metadata": {
    "collapsed": true,
    "deletable": true,
    "editable": true
   },
   "outputs": [],
   "source": [
    "import numpy as np\n",
    "import tensorflow as tf\n"
   ]
  },
  {
   "cell_type": "markdown",
   "metadata": {},
   "source": [
    "Corpus de trabajo."
   ]
  },
  {
   "cell_type": "code",
   "execution_count": 2,
   "metadata": {
    "collapsed": false,
    "deletable": true,
    "editable": true
   },
   "outputs": [
    {
     "name": "stdout",
     "output_type": "stream",
     "text": [
      "la felicidad es solamente la ausencia del dolor . el hombre ha hecho de la tierra un infierno para los animales . la vida es solo la muerte aplazada . cada partida es una anticipacion de la muerte y cada encuentro una anticipacion de la resurreccion . a excepcion del hombre ningun ser se maravilla de su propia existencia . ni tanto que queme al santo ni tanto que no lo alumbre . no todo el que trae levita es persona principal . para uno que madruga hay otro que no se duerme . crea fama y echate a dormir . de vez en cuando se aprende algo pero se olvida el dia entero . el destino es el que baraja las cartas pero nosotros los que las jugamos . la soledad es la suerte de todos los espiritus excelentes . hay seres de los que no se concibe como llegan a caminar sobre dos piernas aunque eso no signifique mucho . las religiones como las luciernagas necesitan de la oscuridad para brillar . no hay ningun viento favorable para el que no sabe a que puerto se dirige . pocas veces pensamos en lo que tenemos pero siempre en lo que nos falta . se dice que la maldad se expia en aquel mundo pero la estupidez se expia en este . toda vida es sufrimiento . los hombres vulgares solo piensan en como pasar el tiempo un hombre inteligente procura aprovecharlo \n"
     ]
    }
   ],
   "source": [
    "corpus = 'La felicidad es solamente la ausencia del dolor . El hombre ha hecho de la Tierra un infierno para los animales . La vida es solo la muerte aplazada . Cada partida es una anticipacion de la muerte y cada encuentro una anticipacion de la resurreccion . A excepcion del hombre ningun ser se maravilla de su propia existencia . Ni tanto que queme al santo ni tanto que no lo alumbre . No todo el que trae levita es persona principal . Para uno que madruga hay otro que no se duerme . Crea fama y echate a dormir . De vez en cuando se aprende algo pero se olvida el dia entero . El destino es el que baraja las cartas pero nosotros los que las jugamos . La soledad es la suerte de todos los espiritus excelentes . Hay seres de los que no se concibe como llegan a caminar sobre dos piernas aunque eso no signifique mucho . Las religiones como las luciernagas necesitan de la oscuridad para brillar . No hay ningun viento favorable para el que no sabe a que puerto se dirige . Pocas veces pensamos en lo que tenemos pero siempre en lo que nos falta . Se dice que la maldad se expia en aquel mundo pero la estupidez se expia en este . Toda vida es sufrimiento . Los hombres vulgares solo piensan en como pasar el tiempo un hombre inteligente procura aprovecharlo '\n",
    "corpus = corpus.lower()\n",
    "print(corpus)"
   ]
  },
  {
   "cell_type": "markdown",
   "metadata": {},
   "source": [
    "Se genera una lista de todas las palabras dentro del corpus."
   ]
  },
  {
   "cell_type": "code",
   "execution_count": 3,
   "metadata": {
    "collapsed": false,
    "deletable": true,
    "editable": true
   },
   "outputs": [
    {
     "name": "stdout",
     "output_type": "stream",
     "text": [
      "['la', 'felicidad', 'es', 'solamente', 'la', 'ausencia', 'del', 'dolor', 'el', 'hombre', 'ha', 'hecho', 'de', 'la', 'tierra', 'un', 'infierno', 'para', 'los', 'animales', 'la', 'vida', 'es', 'solo', 'la', 'muerte', 'aplazada', 'cada', 'partida', 'es', 'una', 'anticipacion', 'de', 'la', 'muerte', 'y', 'cada', 'encuentro', 'una', 'anticipacion', 'de', 'la', 'resurreccion', 'a', 'excepcion', 'del', 'hombre', 'ningun', 'ser', 'se', 'maravilla', 'de', 'su', 'propia', 'existencia', 'ni', 'tanto', 'que', 'queme', 'al', 'santo', 'ni', 'tanto', 'que', 'no', 'lo', 'alumbre', 'no', 'todo', 'el', 'que', 'trae', 'levita', 'es', 'persona', 'principal', 'para', 'uno', 'que', 'madruga', 'hay', 'otro', 'que', 'no', 'se', 'duerme', 'crea', 'fama', 'y', 'echate', 'a', 'dormir', 'de', 'vez', 'en', 'cuando', 'se', 'aprende', 'algo', 'pero', 'se', 'olvida', 'el', 'dia', 'entero', 'el', 'destino', 'es', 'el', 'que', 'baraja', 'las', 'cartas', 'pero', 'nosotros', 'los', 'que', 'las', 'jugamos', 'la', 'soledad', 'es', 'la', 'suerte', 'de', 'todos', 'los', 'espiritus', 'excelentes', 'hay', 'seres', 'de', 'los', 'que', 'no', 'se', 'concibe', 'como', 'llegan', 'a', 'caminar', 'sobre', 'dos', 'piernas', 'aunque', 'eso', 'no', 'signifique', 'mucho', 'las', 'religiones', 'como', 'las', 'luciernagas', 'necesitan', 'de', 'la', 'oscuridad', 'para', 'brillar', 'no', 'hay', 'ningun', 'viento', 'favorable', 'para', 'el', 'que', 'no', 'sabe', 'a', 'que', 'puerto', 'se', 'dirige', 'pocas', 'veces', 'pensamos', 'en', 'lo', 'que', 'tenemos', 'pero', 'siempre', 'en', 'lo', 'que', 'nos', 'falta', 'se', 'dice', 'que', 'la', 'maldad', 'se', 'expia', 'en', 'aquel', 'mundo', 'pero', 'la', 'estupidez', 'se', 'expia', 'en', 'este', 'toda', 'vida', 'es', 'sufrimiento', 'los', 'hombres', 'vulgares', 'solo', 'piensan', 'en', 'como', 'pasar', 'el', 'tiempo', 'un', 'hombre', 'inteligente', 'procura', 'aprovecharlo']\n"
     ]
    }
   ],
   "source": [
    "stop_list = ['.']\n",
    "words = [_ for _ in corpus.split() \n",
    "         if _ not in stop_list] # Se omiten los caracteres que estén en la lista de paro\n",
    "print(words)"
   ]
  },
  {
   "cell_type": "markdown",
   "metadata": {},
   "source": [
    "Se obtiene un conjunto sin repeticiones de todas las palabras del corpus."
   ]
  },
  {
   "cell_type": "code",
   "execution_count": 4,
   "metadata": {
    "collapsed": false,
    "deletable": true,
    "editable": true
   },
   "outputs": [
    {
     "name": "stdout",
     "output_type": "stream",
     "text": [
      "{'dirige', 'principal', 'anticipacion', 'persona', 'alumbre', 'es', 'en', 'tanto', 'lo', 'resurreccion', 'soledad', 'cuando', 'vez', 'al', 'tiempo', 'aprovecharlo', 'destino', 'no', 'pasar', 'para', 'oscuridad', 'luciernagas', 'excepcion', 'pocas', 'falta', 'aquel', 'expia', 'cada', 'procura', 'trae', 'aunque', 'se', 'ni', 'caminar', 'religiones', 'piensan', 'propia', 'aplazada', 'olvida', 'dia', 'felicidad', 'un', 'llegan', 'sobre', 'el', 'toda', 'pensamos', 'solo', 'uno', 'madruga', 'que', 'y', 'ausencia', 'infierno', 'ningun', 'solamente', 'hombres', 'vulgares', 'tenemos', 'como', 'ser', 'algo', 'sabe', 'puerto', 'una', 'del', 'vida', 'viento', 'inteligente', 'echate', 'maravilla', 'duerme', 'mucho', 'dormir', 'otro', 'maldad', 'queme', 'eso', 'animales', 'la', 'sufrimiento', 'este', 'todos', 'su', 'veces', 'brillar', 'pero', 'partida', 'excelentes', 'seres', 'levita', 'fama', 'los', 'muerte', 'santo', 'dice', 'mundo', 'todo', 'crea', 'encuentro', 'estupidez', 'cartas', 'hecho', 'favorable', 'siempre', 'dolor', 'tierra', 'nosotros', 'baraja', 'hay', 'piernas', 'ha', 'a', 'aprende', 'concibe', 'de', 'dos', 'necesitan', 'nos', 'existencia', 'las', 'hombre', 'entero', 'espiritus', 'signifique', 'jugamos', 'suerte'}\n"
     ]
    }
   ],
   "source": [
    "words = set(words)\n",
    "print(words)"
   ]
  },
  {
   "cell_type": "markdown",
   "metadata": {},
   "source": [
    "Se les asigna una representación numérica a las palabras para que puedan ser interpretadas por la computadora."
   ]
  },
  {
   "cell_type": "code",
   "execution_count": 5,
   "metadata": {
    "collapsed": false,
    "deletable": true,
    "editable": true
   },
   "outputs": [
    {
     "name": "stdout",
     "output_type": "stream",
     "text": [
      "66\n",
      "persona\n"
     ]
    }
   ],
   "source": [
    "word2int = {}\n",
    "int2word = {}\n",
    "\n",
    "vocab_size = len(words)\n",
    "\n",
    "for i,word in enumerate(words):\n",
    "    word2int[word] = i\n",
    "    int2word[i] = word\n",
    "    \n",
    "print(word2int['vida']) # Número correspondiente a la palabra 'libro'.\n",
    "print(int2word[3])       # Palabra correspondiente al número 3."
   ]
  },
  {
   "cell_type": "markdown",
   "metadata": {},
   "source": [
    "* Se obtiene  una lista de frases del corpus.\n",
    "* Se obtiene una lista de cada frase del corpus."
   ]
  },
  {
   "cell_type": "code",
   "execution_count": 6,
   "metadata": {
    "collapsed": false,
    "deletable": true,
    "editable": true
   },
   "outputs": [
    {
     "name": "stdout",
     "output_type": "stream",
     "text": [
      "['la felicidad es solamente la ausencia del dolor ', ' el hombre ha hecho de la tierra un infierno para los animales ', ' la vida es solo la muerte aplazada ', ' cada partida es una anticipacion de la muerte y cada encuentro una anticipacion de la resurreccion ', ' a excepcion del hombre ningun ser se maravilla de su propia existencia ', ' ni tanto que queme al santo ni tanto que no lo alumbre ', ' no todo el que trae levita es persona principal ', ' para uno que madruga hay otro que no se duerme ', ' crea fama y echate a dormir ', ' de vez en cuando se aprende algo pero se olvida el dia entero ', ' el destino es el que baraja las cartas pero nosotros los que las jugamos ', ' la soledad es la suerte de todos los espiritus excelentes ', ' hay seres de los que no se concibe como llegan a caminar sobre dos piernas aunque eso no signifique mucho ', ' las religiones como las luciernagas necesitan de la oscuridad para brillar ', ' no hay ningun viento favorable para el que no sabe a que puerto se dirige ', ' pocas veces pensamos en lo que tenemos pero siempre en lo que nos falta ', ' se dice que la maldad se expia en aquel mundo pero la estupidez se expia en este ', ' toda vida es sufrimiento ', ' los hombres vulgares solo piensan en como pasar el tiempo un hombre inteligente procura aprovecharlo ']\n",
      "[['la', 'felicidad', 'es', 'solamente', 'la', 'ausencia', 'del', 'dolor'], ['el', 'hombre', 'ha', 'hecho', 'de', 'la', 'tierra', 'un', 'infierno', 'para', 'los', 'animales'], ['la', 'vida', 'es', 'solo', 'la', 'muerte', 'aplazada'], ['cada', 'partida', 'es', 'una', 'anticipacion', 'de', 'la', 'muerte', 'y', 'cada', 'encuentro', 'una', 'anticipacion', 'de', 'la', 'resurreccion'], ['a', 'excepcion', 'del', 'hombre', 'ningun', 'ser', 'se', 'maravilla', 'de', 'su', 'propia', 'existencia'], ['ni', 'tanto', 'que', 'queme', 'al', 'santo', 'ni', 'tanto', 'que', 'no', 'lo', 'alumbre'], ['no', 'todo', 'el', 'que', 'trae', 'levita', 'es', 'persona', 'principal'], ['para', 'uno', 'que', 'madruga', 'hay', 'otro', 'que', 'no', 'se', 'duerme'], ['crea', 'fama', 'y', 'echate', 'a', 'dormir'], ['de', 'vez', 'en', 'cuando', 'se', 'aprende', 'algo', 'pero', 'se', 'olvida', 'el', 'dia', 'entero'], ['el', 'destino', 'es', 'el', 'que', 'baraja', 'las', 'cartas', 'pero', 'nosotros', 'los', 'que', 'las', 'jugamos'], ['la', 'soledad', 'es', 'la', 'suerte', 'de', 'todos', 'los', 'espiritus', 'excelentes'], ['hay', 'seres', 'de', 'los', 'que', 'no', 'se', 'concibe', 'como', 'llegan', 'a', 'caminar', 'sobre', 'dos', 'piernas', 'aunque', 'eso', 'no', 'signifique', 'mucho'], ['las', 'religiones', 'como', 'las', 'luciernagas', 'necesitan', 'de', 'la', 'oscuridad', 'para', 'brillar'], ['no', 'hay', 'ningun', 'viento', 'favorable', 'para', 'el', 'que', 'no', 'sabe', 'a', 'que', 'puerto', 'se', 'dirige'], ['pocas', 'veces', 'pensamos', 'en', 'lo', 'que', 'tenemos', 'pero', 'siempre', 'en', 'lo', 'que', 'nos', 'falta'], ['se', 'dice', 'que', 'la', 'maldad', 'se', 'expia', 'en', 'aquel', 'mundo', 'pero', 'la', 'estupidez', 'se', 'expia', 'en', 'este'], ['toda', 'vida', 'es', 'sufrimiento'], ['los', 'hombres', 'vulgares', 'solo', 'piensan', 'en', 'como', 'pasar', 'el', 'tiempo', 'un', 'hombre', 'inteligente', 'procura', 'aprovecharlo']]\n"
     ]
    }
   ],
   "source": [
    "raw_sentences = corpus.split('.')\n",
    "\n",
    "print(raw_sentences)\n",
    "sentences = [_.split() for _ in raw_sentences]\n",
    "print(sentences)\n"
   ]
  },
  {
   "cell_type": "markdown",
   "metadata": {},
   "source": [
    "Se obtienen las palabras vecinas con una ventana de 2 para después usarlas como datos de entrenamiento."
   ]
  },
  {
   "cell_type": "code",
   "execution_count": 7,
   "metadata": {
    "collapsed": false,
    "deletable": true,
    "editable": true
   },
   "outputs": [
    {
     "name": "stdout",
     "output_type": "stream",
     "text": [
      "[['la', 'felicidad'], ['felicidad', 'la'], ['felicidad', 'es'], ['es', 'la'], ['es', 'felicidad'], ['es', 'solamente'], ['solamente', 'felicidad'], ['solamente', 'es'], ['solamente', 'la'], ['la', 'es'], ['la', 'solamente'], ['la', 'ausencia'], ['ausencia', 'solamente'], ['ausencia', 'la'], ['ausencia', 'del'], ['del', 'la'], ['del', 'ausencia'], ['del', 'dolor'], ['dolor', 'ausencia'], ['dolor', 'del'], ['el', 'hombre'], ['hombre', 'el'], ['hombre', 'ha'], ['ha', 'el'], ['ha', 'hombre'], ['ha', 'hecho'], ['hecho', 'hombre'], ['hecho', 'ha'], ['hecho', 'de'], ['de', 'ha'], ['de', 'hecho'], ['de', 'la'], ['la', 'hecho'], ['la', 'de'], ['la', 'tierra'], ['tierra', 'de'], ['tierra', 'la'], ['tierra', 'un'], ['un', 'la'], ['un', 'tierra'], ['un', 'infierno'], ['infierno', 'tierra'], ['infierno', 'un'], ['infierno', 'para'], ['para', 'un'], ['para', 'infierno'], ['para', 'los'], ['los', 'infierno'], ['los', 'para'], ['los', 'animales'], ['animales', 'para'], ['animales', 'los'], ['la', 'vida'], ['vida', 'la'], ['vida', 'es'], ['es', 'la'], ['es', 'vida'], ['es', 'solo'], ['solo', 'vida'], ['solo', 'es'], ['solo', 'la'], ['la', 'es'], ['la', 'solo'], ['la', 'muerte'], ['muerte', 'solo'], ['muerte', 'la'], ['muerte', 'aplazada'], ['aplazada', 'la'], ['aplazada', 'muerte'], ['cada', 'partida'], ['partida', 'cada'], ['partida', 'es'], ['es', 'cada'], ['es', 'partida'], ['es', 'una'], ['una', 'partida'], ['una', 'es'], ['una', 'anticipacion'], ['anticipacion', 'es'], ['anticipacion', 'una'], ['anticipacion', 'de'], ['de', 'una'], ['de', 'anticipacion'], ['de', 'la'], ['la', 'anticipacion'], ['la', 'de'], ['la', 'muerte'], ['muerte', 'de'], ['muerte', 'la'], ['muerte', 'y'], ['y', 'la'], ['y', 'muerte'], ['y', 'cada'], ['cada', 'muerte'], ['cada', 'y'], ['cada', 'encuentro'], ['encuentro', 'y'], ['encuentro', 'cada'], ['encuentro', 'una'], ['una', 'cada'], ['una', 'encuentro'], ['una', 'anticipacion'], ['anticipacion', 'encuentro'], ['anticipacion', 'una'], ['anticipacion', 'de'], ['de', 'una'], ['de', 'anticipacion'], ['de', 'la'], ['la', 'anticipacion'], ['la', 'de'], ['la', 'resurreccion'], ['resurreccion', 'de'], ['resurreccion', 'la'], ['a', 'excepcion'], ['excepcion', 'a'], ['excepcion', 'del'], ['del', 'a'], ['del', 'excepcion'], ['del', 'hombre'], ['hombre', 'excepcion'], ['hombre', 'del'], ['hombre', 'ningun'], ['ningun', 'del'], ['ningun', 'hombre'], ['ningun', 'ser'], ['ser', 'hombre'], ['ser', 'ningun'], ['ser', 'se'], ['se', 'ningun'], ['se', 'ser'], ['se', 'maravilla'], ['maravilla', 'ser'], ['maravilla', 'se'], ['maravilla', 'de'], ['de', 'se'], ['de', 'maravilla'], ['de', 'su'], ['su', 'maravilla'], ['su', 'de'], ['su', 'propia'], ['propia', 'de'], ['propia', 'su'], ['propia', 'existencia'], ['existencia', 'su'], ['existencia', 'propia'], ['ni', 'tanto'], ['tanto', 'ni'], ['tanto', 'que'], ['que', 'ni'], ['que', 'tanto'], ['que', 'queme'], ['queme', 'tanto'], ['queme', 'que'], ['queme', 'al'], ['al', 'que'], ['al', 'queme'], ['al', 'santo'], ['santo', 'queme'], ['santo', 'al'], ['santo', 'ni'], ['ni', 'al'], ['ni', 'santo'], ['ni', 'tanto'], ['tanto', 'santo'], ['tanto', 'ni'], ['tanto', 'que'], ['que', 'ni'], ['que', 'tanto'], ['que', 'no'], ['no', 'tanto'], ['no', 'que'], ['no', 'lo'], ['lo', 'que'], ['lo', 'no'], ['lo', 'alumbre'], ['alumbre', 'no'], ['alumbre', 'lo'], ['no', 'todo'], ['todo', 'no'], ['todo', 'el'], ['el', 'no'], ['el', 'todo'], ['el', 'que'], ['que', 'todo'], ['que', 'el'], ['que', 'trae'], ['trae', 'el'], ['trae', 'que'], ['trae', 'levita'], ['levita', 'que'], ['levita', 'trae'], ['levita', 'es'], ['es', 'trae'], ['es', 'levita'], ['es', 'persona'], ['persona', 'levita'], ['persona', 'es'], ['persona', 'principal'], ['principal', 'es'], ['principal', 'persona'], ['para', 'uno'], ['uno', 'para'], ['uno', 'que'], ['que', 'para'], ['que', 'uno'], ['que', 'madruga'], ['madruga', 'uno'], ['madruga', 'que'], ['madruga', 'hay'], ['hay', 'que'], ['hay', 'madruga'], ['hay', 'otro'], ['otro', 'madruga'], ['otro', 'hay'], ['otro', 'que'], ['que', 'hay'], ['que', 'otro'], ['que', 'no'], ['no', 'otro'], ['no', 'que'], ['no', 'se'], ['se', 'que'], ['se', 'no'], ['se', 'duerme'], ['duerme', 'no'], ['duerme', 'se'], ['crea', 'fama'], ['fama', 'crea'], ['fama', 'y'], ['y', 'crea'], ['y', 'fama'], ['y', 'echate'], ['echate', 'fama'], ['echate', 'y'], ['echate', 'a'], ['a', 'y'], ['a', 'echate'], ['a', 'dormir'], ['dormir', 'echate'], ['dormir', 'a'], ['de', 'vez'], ['vez', 'de'], ['vez', 'en'], ['en', 'de'], ['en', 'vez'], ['en', 'cuando'], ['cuando', 'vez'], ['cuando', 'en'], ['cuando', 'se'], ['se', 'en'], ['se', 'cuando'], ['se', 'aprende'], ['aprende', 'cuando'], ['aprende', 'se'], ['aprende', 'algo'], ['algo', 'se'], ['algo', 'aprende'], ['algo', 'pero'], ['pero', 'aprende'], ['pero', 'algo'], ['pero', 'se'], ['se', 'algo'], ['se', 'pero'], ['se', 'olvida'], ['olvida', 'pero'], ['olvida', 'se'], ['olvida', 'el'], ['el', 'se'], ['el', 'olvida'], ['el', 'dia'], ['dia', 'olvida'], ['dia', 'el'], ['dia', 'entero'], ['entero', 'el'], ['entero', 'dia'], ['el', 'destino'], ['destino', 'el'], ['destino', 'es'], ['es', 'el'], ['es', 'destino'], ['es', 'el'], ['el', 'destino'], ['el', 'es'], ['el', 'que'], ['que', 'es'], ['que', 'el'], ['que', 'baraja'], ['baraja', 'el'], ['baraja', 'que'], ['baraja', 'las'], ['las', 'que'], ['las', 'baraja'], ['las', 'cartas'], ['cartas', 'baraja'], ['cartas', 'las'], ['cartas', 'pero'], ['pero', 'las'], ['pero', 'cartas'], ['pero', 'nosotros'], ['nosotros', 'cartas'], ['nosotros', 'pero'], ['nosotros', 'los'], ['los', 'pero'], ['los', 'nosotros'], ['los', 'que'], ['que', 'nosotros'], ['que', 'los'], ['que', 'las'], ['las', 'los'], ['las', 'que'], ['las', 'jugamos'], ['jugamos', 'que'], ['jugamos', 'las'], ['la', 'soledad'], ['soledad', 'la'], ['soledad', 'es'], ['es', 'la'], ['es', 'soledad'], ['es', 'la'], ['la', 'soledad'], ['la', 'es'], ['la', 'suerte'], ['suerte', 'es'], ['suerte', 'la'], ['suerte', 'de'], ['de', 'la'], ['de', 'suerte'], ['de', 'todos'], ['todos', 'suerte'], ['todos', 'de'], ['todos', 'los'], ['los', 'de'], ['los', 'todos'], ['los', 'espiritus'], ['espiritus', 'todos'], ['espiritus', 'los'], ['espiritus', 'excelentes'], ['excelentes', 'los'], ['excelentes', 'espiritus'], ['hay', 'seres'], ['seres', 'hay'], ['seres', 'de'], ['de', 'hay'], ['de', 'seres'], ['de', 'los'], ['los', 'seres'], ['los', 'de'], ['los', 'que'], ['que', 'de'], ['que', 'los'], ['que', 'no'], ['no', 'los'], ['no', 'que'], ['no', 'se'], ['se', 'que'], ['se', 'no'], ['se', 'concibe'], ['concibe', 'no'], ['concibe', 'se'], ['concibe', 'como'], ['como', 'se'], ['como', 'concibe'], ['como', 'llegan'], ['llegan', 'concibe'], ['llegan', 'como'], ['llegan', 'a'], ['a', 'como'], ['a', 'llegan'], ['a', 'caminar'], ['caminar', 'llegan'], ['caminar', 'a'], ['caminar', 'sobre'], ['sobre', 'a'], ['sobre', 'caminar'], ['sobre', 'dos'], ['dos', 'caminar'], ['dos', 'sobre'], ['dos', 'piernas'], ['piernas', 'sobre'], ['piernas', 'dos'], ['piernas', 'aunque'], ['aunque', 'dos'], ['aunque', 'piernas'], ['aunque', 'eso'], ['eso', 'piernas'], ['eso', 'aunque'], ['eso', 'no'], ['no', 'aunque'], ['no', 'eso'], ['no', 'signifique'], ['signifique', 'eso'], ['signifique', 'no'], ['signifique', 'mucho'], ['mucho', 'no'], ['mucho', 'signifique'], ['las', 'religiones'], ['religiones', 'las'], ['religiones', 'como'], ['como', 'las'], ['como', 'religiones'], ['como', 'las'], ['las', 'religiones'], ['las', 'como'], ['las', 'luciernagas'], ['luciernagas', 'como'], ['luciernagas', 'las'], ['luciernagas', 'necesitan'], ['necesitan', 'las'], ['necesitan', 'luciernagas'], ['necesitan', 'de'], ['de', 'luciernagas'], ['de', 'necesitan'], ['de', 'la'], ['la', 'necesitan'], ['la', 'de'], ['la', 'oscuridad'], ['oscuridad', 'de'], ['oscuridad', 'la'], ['oscuridad', 'para'], ['para', 'la'], ['para', 'oscuridad'], ['para', 'brillar'], ['brillar', 'oscuridad'], ['brillar', 'para'], ['no', 'hay'], ['hay', 'no'], ['hay', 'ningun'], ['ningun', 'no'], ['ningun', 'hay'], ['ningun', 'viento'], ['viento', 'hay'], ['viento', 'ningun'], ['viento', 'favorable'], ['favorable', 'ningun'], ['favorable', 'viento'], ['favorable', 'para'], ['para', 'viento'], ['para', 'favorable'], ['para', 'el'], ['el', 'favorable'], ['el', 'para'], ['el', 'que'], ['que', 'para'], ['que', 'el'], ['que', 'no'], ['no', 'el'], ['no', 'que'], ['no', 'sabe'], ['sabe', 'que'], ['sabe', 'no'], ['sabe', 'a'], ['a', 'no'], ['a', 'sabe'], ['a', 'que'], ['que', 'sabe'], ['que', 'a'], ['que', 'puerto'], ['puerto', 'a'], ['puerto', 'que'], ['puerto', 'se'], ['se', 'que'], ['se', 'puerto'], ['se', 'dirige'], ['dirige', 'puerto'], ['dirige', 'se'], ['pocas', 'veces'], ['veces', 'pocas'], ['veces', 'pensamos'], ['pensamos', 'pocas'], ['pensamos', 'veces'], ['pensamos', 'en'], ['en', 'veces'], ['en', 'pensamos'], ['en', 'lo'], ['lo', 'pensamos'], ['lo', 'en'], ['lo', 'que'], ['que', 'en'], ['que', 'lo'], ['que', 'tenemos'], ['tenemos', 'lo'], ['tenemos', 'que'], ['tenemos', 'pero'], ['pero', 'que'], ['pero', 'tenemos'], ['pero', 'siempre'], ['siempre', 'tenemos'], ['siempre', 'pero'], ['siempre', 'en'], ['en', 'pero'], ['en', 'siempre'], ['en', 'lo'], ['lo', 'siempre'], ['lo', 'en'], ['lo', 'que'], ['que', 'en'], ['que', 'lo'], ['que', 'nos'], ['nos', 'lo'], ['nos', 'que'], ['nos', 'falta'], ['falta', 'que'], ['falta', 'nos'], ['se', 'dice'], ['dice', 'se'], ['dice', 'que'], ['que', 'se'], ['que', 'dice'], ['que', 'la'], ['la', 'dice'], ['la', 'que'], ['la', 'maldad'], ['maldad', 'que'], ['maldad', 'la'], ['maldad', 'se'], ['se', 'la'], ['se', 'maldad'], ['se', 'expia'], ['expia', 'maldad'], ['expia', 'se'], ['expia', 'en'], ['en', 'se'], ['en', 'expia'], ['en', 'aquel'], ['aquel', 'expia'], ['aquel', 'en'], ['aquel', 'mundo'], ['mundo', 'en'], ['mundo', 'aquel'], ['mundo', 'pero'], ['pero', 'aquel'], ['pero', 'mundo'], ['pero', 'la'], ['la', 'mundo'], ['la', 'pero'], ['la', 'estupidez'], ['estupidez', 'pero'], ['estupidez', 'la'], ['estupidez', 'se'], ['se', 'la'], ['se', 'estupidez'], ['se', 'expia'], ['expia', 'estupidez'], ['expia', 'se'], ['expia', 'en'], ['en', 'se'], ['en', 'expia'], ['en', 'este'], ['este', 'expia'], ['este', 'en'], ['toda', 'vida'], ['vida', 'toda'], ['vida', 'es'], ['es', 'toda'], ['es', 'vida'], ['es', 'sufrimiento'], ['sufrimiento', 'vida'], ['sufrimiento', 'es'], ['los', 'hombres'], ['hombres', 'los'], ['hombres', 'vulgares'], ['vulgares', 'los'], ['vulgares', 'hombres'], ['vulgares', 'solo'], ['solo', 'hombres'], ['solo', 'vulgares'], ['solo', 'piensan'], ['piensan', 'vulgares'], ['piensan', 'solo'], ['piensan', 'en'], ['en', 'solo'], ['en', 'piensan'], ['en', 'como'], ['como', 'piensan'], ['como', 'en'], ['como', 'pasar'], ['pasar', 'en'], ['pasar', 'como'], ['pasar', 'el'], ['el', 'como'], ['el', 'pasar'], ['el', 'tiempo'], ['tiempo', 'pasar'], ['tiempo', 'el'], ['tiempo', 'un'], ['un', 'el'], ['un', 'tiempo'], ['un', 'hombre'], ['hombre', 'tiempo'], ['hombre', 'un'], ['hombre', 'inteligente'], ['inteligente', 'un'], ['inteligente', 'hombre'], ['inteligente', 'procura'], ['procura', 'hombre'], ['procura', 'inteligente'], ['procura', 'aprovecharlo'], ['aprovecharlo', 'inteligente'], ['aprovecharlo', 'procura']]\n"
     ]
    }
   ],
   "source": [
    "data = []\n",
    "\n",
    "WINDOW_SIZE = 2\n",
    "\n",
    "for sentence in sentences:\n",
    "    for word_index,word in enumerate(sentence):\n",
    "        for neighbor_word in sentence[max(word_index - WINDOW_SIZE,0):\n",
    "                                      min(word_index + WINDOW_SIZE,len(sentence) + 1)]:\n",
    "            if neighbor_word != word:\n",
    "                data.append([word,neighbor_word])\n",
    "\n",
    "print(data)"
   ]
  },
  {
   "cell_type": "markdown",
   "metadata": {},
   "source": [
    "Función que obtiene la representación one hot vector de un número."
   ]
  },
  {
   "cell_type": "code",
   "execution_count": 8,
   "metadata": {
    "collapsed": true,
    "deletable": true,
    "editable": true
   },
   "outputs": [],
   "source": [
    "def one_hot_vector(data_index,vocab_size):\n",
    "    ohv = np.zeros(vocab_size)\n",
    "    ohv[data_index] = 1\n",
    "    return ohv"
   ]
  },
  {
   "cell_type": "markdown",
   "metadata": {},
   "source": [
    "Se obtienen one hot vectors de la lista de palabras de entrenamiento."
   ]
  },
  {
   "cell_type": "code",
   "execution_count": 9,
   "metadata": {
    "collapsed": false,
    "deletable": true,
    "editable": true
   },
   "outputs": [
    {
     "name": "stdout",
     "output_type": "stream",
     "text": [
      "(599, 127) (599, 127)\n"
     ]
    }
   ],
   "source": [
    "x_train = [(one_hot_vector(word2int[data_word[0]],vocab_size)) for data_word in data ] # input word\n",
    "y_train = [(one_hot_vector(word2int[data_word[1]],vocab_size)) for data_word in data ] # output word\n",
    "\n",
    "x_train = np.asarray(x_train)\n",
    "y_train = np.asarray(y_train)\n",
    "print(x_train.shape, y_train.shape)"
   ]
  },
  {
   "cell_type": "markdown",
   "metadata": {},
   "source": [
    "# Tensorflow model"
   ]
  },
  {
   "cell_type": "code",
   "execution_count": 10,
   "metadata": {
    "collapsed": true,
    "deletable": true,
    "editable": true
   },
   "outputs": [],
   "source": [
    "x = tf.placeholder(tf.float32, shape=(None, vocab_size))\n",
    "y_label = tf.placeholder(tf.float32, shape=(None, vocab_size))"
   ]
  },
  {
   "cell_type": "markdown",
   "metadata": {},
   "source": [
    "* Se declara la matriz de pesos, bias.\n",
    "* La variable `hidden_representation` es el word embedding y se define como:\n",
    "\n",
    "    $h = x*W_1 + bias$"
   ]
  },
  {
   "cell_type": "code",
   "execution_count": 11,
   "metadata": {
    "collapsed": false,
    "deletable": true,
    "editable": true
   },
   "outputs": [],
   "source": [
    "EMBEDDING_DIM = 5 # Dimensión de los words embeddings\n",
    "\n",
    "W1 = tf.Variable(tf.random_normal([vocab_size, EMBEDDING_DIM]))\n",
    "b1 = tf.Variable(tf.random_normal([EMBEDDING_DIM])) #bias\n",
    "hidden_representation = tf.add(tf.matmul(x,W1), b1)\n",
    "\n"
   ]
  },
  {
   "cell_type": "markdown",
   "metadata": {},
   "source": [
    "Se declaran variables para realizar la conversión de word embeddings a vectores del tamaño del vocabulario.\n",
    "De los word embeddings se regresa a un vector de probabilidades de dimensión del vocabulario y con la función de softmax se hace una predicción de las palabras vecinas de una palabra en específico."
   ]
  },
  {
   "cell_type": "code",
   "execution_count": 12,
   "metadata": {
    "collapsed": true,
    "deletable": true,
    "editable": true
   },
   "outputs": [],
   "source": [
    "W2 = tf.Variable(tf.random_normal([EMBEDDING_DIM, vocab_size]))\n",
    "b2 = tf.Variable(tf.random_normal([vocab_size]))\n",
    "prediction = tf.nn.softmax(tf.add( tf.matmul(hidden_representation, W2), b2))"
   ]
  },
  {
   "cell_type": "markdown",
   "metadata": {},
   "source": [
    "# Training"
   ]
  },
  {
   "cell_type": "code",
   "execution_count": 13,
   "metadata": {
    "collapsed": false,
    "deletable": true,
    "editable": true
   },
   "outputs": [
    {
     "name": "stdout",
     "output_type": "stream",
     "text": [
      "loss is :  8.36907\n",
      "loss is :  3.92689\n",
      "loss is :  3.47248\n",
      "loss is :  3.1598\n",
      "loss is :  2.93379\n",
      "loss is :  2.77748\n"
     ]
    }
   ],
   "source": [
    "sess = tf.Session()\n",
    "\n",
    "init = tf.global_variables_initializer()\n",
    "\n",
    "sess.run(init)\n",
    "\n",
    "# define the loss function:\n",
    "cross_entropy_loss = tf.reduce_mean(-tf.reduce_sum(y_label * tf.log(prediction), reduction_indices=[1]))\n",
    "\n",
    "# define the training step:\n",
    "train_step = tf.train.GradientDescentOptimizer(0.1).minimize(cross_entropy_loss)\n",
    "\n",
    "n_iters = 12000\n",
    "# train for n_iter iterations\n",
    "for _ in range(n_iters):\n",
    "    sess.run(train_step, feed_dict={x: x_train, y_label: y_train})\n",
    "    if not _ % 2000:\n",
    "        print('loss is : ', sess.run(cross_entropy_loss, feed_dict={x: x_train, y_label: y_train}))\n",
    "    \n",
    "    \n",
    "    "
   ]
  },
  {
   "cell_type": "code",
   "execution_count": 14,
   "metadata": {
    "collapsed": false,
    "deletable": true,
    "editable": true
   },
   "outputs": [
    {
     "name": "stdout",
     "output_type": "stream",
     "text": [
      "[[ -7.57599890e-01  -1.83141768e+00  -7.69361317e-01   3.29527885e-01\n",
      "   -6.87218368e-01]\n",
      " [  1.64565539e+00  -8.04881215e-01   2.24321231e-01  -1.23828471e+00\n",
      "    7.52113089e-02]\n",
      " [  2.53728175e+00   1.23740458e+00  -1.16766775e+00  -1.05888402e+00\n",
      "   -1.59568119e+00]\n",
      " [  2.08566523e+00  -1.64172304e+00  -3.29135776e-01  -2.26325083e+00\n",
      "    1.44647133e+00]\n",
      " [ -1.05287075e+00  -1.53547525e+00  -2.77446151e-01   1.95065188e+00\n",
      "   -8.93108964e-01]\n",
      " [  1.21294260e+00  -1.57801330e-01  -6.08570218e-01  -2.94063687e+00\n",
      "    1.70647407e+00]\n",
      " [ -7.54628658e-01  -1.97608415e-02   9.11519825e-01   6.76207781e-01\n",
      "   -1.92941213e+00]\n",
      " [  2.36694264e+00  -7.41284132e-01   2.16622138e+00   2.09933829e+00\n",
      "    1.44378603e+00]\n",
      " [ -1.78494608e+00  -1.62826374e-01   1.00678134e+00   2.29408526e+00\n",
      "   -5.24324000e-01]\n",
      " [  7.00286686e-01   6.68499947e-01  -1.04752517e+00  -2.49162957e-01\n",
      "   -5.14740407e-01]\n",
      " [  1.39276981e+00   6.87865615e-01  -2.80670494e-01  -9.69201922e-01\n",
      "    3.21898013e-02]\n",
      " [ -5.45613825e-01  -1.53900683e+00   9.29051399e-01   2.02690154e-01\n",
      "   -6.13493204e-01]\n",
      " [  8.47792864e-01  -7.31272161e-01  -4.02617693e-01   1.20823002e+00\n",
      "   -5.88563859e-01]\n",
      " [  1.88958168e+00  -1.37195373e+00   1.01085699e+00   1.79432631e+00\n",
      "    6.59810662e-01]\n",
      " [ -6.84615076e-01   8.91859412e-01   5.04362464e-01  -9.14647818e-01\n",
      "    1.27792513e+00]\n",
      " [ -1.04763019e+00   1.20318460e+00  -4.17696178e-01  -2.28936815e+00\n",
      "   -1.64881527e+00]\n",
      " [  1.66774678e+00  -3.65086377e-01  -4.26844448e-01  -5.36653399e-01\n",
      "    1.40740168e+00]\n",
      " [  5.13399780e-01  -1.74922919e+00  -8.22428048e-01   2.13553286e+00\n",
      "    8.15924883e-01]\n",
      " [  5.80784181e-05  -1.15403366e+00   1.27762818e+00   7.57846236e-01\n",
      "    1.33453619e+00]\n",
      " [ -1.19601929e+00   7.52824783e-01  -2.20109358e-01  -6.92589045e-01\n",
      "    1.39940488e+00]\n",
      " [  7.25761130e-02   9.81356740e-01  -1.21601474e+00   3.53364140e-01\n",
      "    3.84912938e-01]\n",
      " [ -8.22164357e-01   1.31401634e+00   8.68852064e-02   8.60182941e-01\n",
      "   -2.93942869e-01]\n",
      " [ -1.13290071e+00  -1.32575357e+00  -1.26809180e+00  -1.02970088e+00\n",
      "    6.95661604e-01]\n",
      " [ -2.09703135e+00   4.45451915e-01   2.04998446e+00  -9.38286960e-01\n",
      "   -8.41022283e-03]\n",
      " [ -3.74898046e-01   7.02855229e-01  -7.90663123e-01   2.07467890e+00\n",
      "    6.71214908e-02]\n",
      " [  1.67287737e-01   5.27724683e-01   1.73108339e+00   5.07451296e-01\n",
      "   -6.29203618e-01]\n",
      " [  1.26523063e-01  -7.07269251e-01   5.20735621e-01   7.27163494e-01\n",
      "   -3.06226820e-01]\n",
      " [  9.04862642e-01   1.34864700e+00   1.45718610e+00  -1.34053743e+00\n",
      "   -1.99611974e+00]\n",
      " [ -1.58947754e+00  -1.98884651e-01  -1.02395082e+00  -1.51531553e+00\n",
      "   -1.04253030e+00]\n",
      " [  1.54737175e+00  -5.43986797e-01   7.17891097e-01   7.88462460e-01\n",
      "    1.53431642e+00]\n",
      " [  9.75431979e-01  -2.50169683e+00  -6.72252119e-01  -4.82408702e-01\n",
      "   -9.95694101e-01]\n",
      " [ -4.34321016e-01   3.61316472e-01  -1.84041813e-01   4.66575801e-01\n",
      "   -2.68501878e-01]\n",
      " [  2.32721138e+00  -2.22411394e+00  -8.29795897e-01   1.51792514e+00\n",
      "    1.98334658e+00]\n",
      " [ -1.01902926e+00  -6.32755756e-01   2.82016563e+00  -9.74555850e-01\n",
      "    1.85744500e+00]\n",
      " [ -1.41401911e+00   6.67907119e-01   1.28566813e+00   1.65940201e+00\n",
      "   -6.65068448e-01]\n",
      " [  1.19140379e-01  -1.43441224e+00   8.99077773e-01  -3.10770899e-01\n",
      "    5.87591648e-01]\n",
      " [  6.75312281e-01  -6.43633068e-01  -3.46984339e+00  -1.05033171e+00\n",
      "   -9.12147999e-01]\n",
      " [  2.55307555e-01   1.53898108e+00  -1.66484043e-02  -7.60255933e-01\n",
      "   -1.07449293e+00]\n",
      " [  4.32761967e-01  -8.38929057e-01   8.43779087e-01  -2.82326844e-02\n",
      "    9.32767689e-01]\n",
      " [  2.92101920e-01   6.92616820e-01  -9.11916614e-01  -3.07345510e-01\n",
      "    1.94432914e+00]\n",
      " [  1.39713252e+00   3.12538594e-01  -1.81494445e-01  -1.16819096e+00\n",
      "    9.83793065e-02]\n",
      " [ -6.24971807e-01  -4.73104604e-02  -3.01553458e-01  -2.15912318e+00\n",
      "    1.55796480e+00]\n",
      " [ -2.15619993e+00  -6.88687325e-01   1.43647957e+00   8.38516593e-01\n",
      "    8.09799731e-01]\n",
      " [ -2.48224244e-01  -2.18626308e+00   2.30798453e-01  -1.54538023e+00\n",
      "    7.38930643e-01]\n",
      " [ -3.62061471e-01   8.68919134e-01   7.76220739e-01  -4.16232040e-03\n",
      "    1.29810321e+00]\n",
      " [  2.16582012e+00   8.90125692e-01   1.70005059e+00  -2.84167409e-01\n",
      "    2.37393475e+00]\n",
      " [ -2.21191669e+00  -8.81348014e-01   2.15765285e+00  -3.80249590e-01\n",
      "    1.88737541e-01]\n",
      " [  8.62996459e-01   1.23768799e-01   6.05931342e-01  -2.94488072e-01\n",
      "    8.46758306e-01]\n",
      " [ -7.60488689e-01   9.37690318e-01   6.98115528e-01   2.01970077e+00\n",
      "    1.87335181e+00]\n",
      " [ -2.86258787e-01   2.51013748e-02   6.17954805e-02   2.07257867e+00\n",
      "   -9.18751657e-01]\n",
      " [  2.42943853e-01  -6.12849116e-01  -8.26145947e-01   1.02626753e+00\n",
      "    5.51425278e-01]\n",
      " [ -1.61149740e-01  -3.75780642e-01   3.63227487e-01  -2.19269395e+00\n",
      "   -1.16412914e+00]\n",
      " [ -1.57613456e-01   6.02516413e-01  -1.79084229e+00  -2.49444866e+00\n",
      "    3.34205806e-01]\n",
      " [ -1.03641057e+00   1.47637045e+00  -1.71446607e-01  -6.59443200e-01\n",
      "    1.29888213e+00]\n",
      " [ -1.98239005e+00  -1.03457260e+00  -2.25957465e+00   2.34009773e-01\n",
      "   -4.17447418e-01]\n",
      " [  1.30897582e+00   3.34636986e-01   1.38065945e-02  -1.49509883e+00\n",
      "    6.19573534e-01]\n",
      " [ -3.57896894e-01  -1.13803792e+00  -3.63490075e-01   6.01140738e-01\n",
      "    1.61689770e+00]\n",
      " [ -4.00741808e-02  -3.84877205e-01   5.34985960e-01  -1.08145766e-01\n",
      "    1.49565113e+00]\n",
      " [  5.27598500e-01  -2.77324051e-01   1.01144457e+00   1.90557599e+00\n",
      "   -1.22276354e+00]\n",
      " [ -1.26390111e+00   7.87180662e-01   1.43391144e+00   7.02098429e-01\n",
      "   -4.58555371e-01]\n",
      " [ -1.79107761e+00  -8.53665948e-01  -7.41723180e-01  -5.97950339e-01\n",
      "   -3.11355293e-01]\n",
      " [  5.16476929e-01  -3.06663930e-01   1.47312927e+00   3.66481692e-01\n",
      "   -3.85875255e-01]\n",
      " [ -1.20001543e+00  -8.38389099e-01  -4.46418300e-02   1.52797556e+00\n",
      "    6.97237909e-01]\n",
      " [ -3.86783630e-01  -8.45535338e-01   7.05266893e-01   9.95471478e-01\n",
      "    1.00397730e+00]\n",
      " [  1.63447094e+00   1.63020146e+00   1.18793666e+00  -2.05959058e+00\n",
      "   -6.09528482e-01]\n",
      " [ -6.69517636e-01   8.41913223e-02  -1.36989844e+00  -1.49471343e+00\n",
      "    1.07451391e+00]\n",
      " [  1.48173630e+00   7.29722857e-01   1.65884137e-01  -1.59599555e+00\n",
      "    4.08238560e-01]\n",
      " [ -2.12485862e+00   2.22691476e-01  -1.86466956e+00   9.33400393e-01\n",
      "   -1.12802453e-01]\n",
      " [ -1.85588455e+00   7.00128734e-01  -5.75360835e-01  -3.06259227e+00\n",
      "    3.75986338e-01]\n",
      " [ -1.05619204e+00  -1.34918475e+00  -7.94104040e-02  -9.78062868e-01\n",
      "   -1.25069213e+00]\n",
      " [  3.69626135e-01  -7.63149559e-01  -5.81005275e-01   6.20445251e-01\n",
      "   -1.38909209e+00]\n",
      " [ -9.83684242e-01  -1.20094156e+00  -4.37503576e-01   6.63737714e-01\n",
      "   -9.68469605e-02]\n",
      " [ -9.41433132e-01  -1.68294740e+00  -1.29682469e+00   1.31845176e+00\n",
      "    7.68262222e-02]\n",
      " [ -8.94344687e-01  -1.37539196e+00   1.44065988e+00  -1.58204830e+00\n",
      "    1.49224830e+00]\n",
      " [  3.71562630e-01  -5.39248213e-02  -1.25035954e+00   3.20581365e+00\n",
      "   -6.05875731e-01]\n",
      " [  2.74066538e-01   1.67596132e-01   9.19505730e-02   5.00955522e-01\n",
      "    9.13254023e-02]\n",
      " [  1.99624467e+00  -7.00307548e-01  -9.95124161e-01   2.13808846e+00\n",
      "    1.21492469e+00]\n",
      " [ -7.90019691e-01  -3.38873076e+00   1.94513991e-01   6.26211315e-02\n",
      "   -9.37998950e-01]\n",
      " [ -1.02451527e+00   6.09974504e-01   6.85365796e-01   1.12279010e+00\n",
      "    2.63485503e+00]\n",
      " [  9.37906563e-01   2.48819447e+00  -5.24189770e-01   2.36109793e-01\n",
      "    1.20774589e-01]\n",
      " [  2.55816364e+00   9.92302597e-01   5.24621129e-01  -7.55607426e-01\n",
      "    1.31130028e+00]\n",
      " [ -5.56553543e-01  -3.55216354e-01   1.39778972e+00   8.12695563e-01\n",
      "   -1.35296154e+00]\n",
      " [  5.91768265e-01   7.38005638e-01  -2.12837982e+00   1.17279112e+00\n",
      "    1.10135639e+00]\n",
      " [ -3.29738826e-01  -4.87120658e-01  -2.86073375e+00   2.63926595e-01\n",
      "    4.58937407e-01]\n",
      " [ -3.22711015e+00  -1.41572857e+00   1.06630707e+00  -3.10847908e-01\n",
      "   -4.81782496e-01]\n",
      " [ -1.72154236e+00   2.40483356e+00  -6.42747283e-01   5.38059652e-01\n",
      "    1.41814244e+00]\n",
      " [  1.17619112e-01   1.11821234e+00   1.11510801e+00   5.59379756e-01\n",
      "   -4.26521927e-01]\n",
      " [  2.05244589e+00  -1.27909720e-01   5.48543751e-01  -1.77462494e+00\n",
      "   -8.21814835e-01]\n",
      " [ -1.21230006e+00   1.06760728e+00  -2.06947398e+00   3.04098278e-01\n",
      "    1.31603599e+00]\n",
      " [  4.27895337e-01   1.08031881e+00  -1.40297294e+00   2.98587537e+00\n",
      "   -1.85044885e+00]\n",
      " [  1.99687660e+00   2.91894436e-01   3.15708488e-01   1.19824028e+00\n",
      "   -8.09841529e-02]\n",
      " [ -7.40979254e-01  -4.72505897e-01   1.25139725e+00  -1.83333170e+00\n",
      "   -1.90643728e+00]\n",
      " [ -2.57033110e-01   1.19208336e+00  -1.19356704e+00   8.10414910e-01\n",
      "    3.91172945e-01]\n",
      " [  1.85048595e-01   4.10105765e-01  -7.40751177e-02  -5.94456673e-01\n",
      "   -1.28372967e+00]\n",
      " [  2.80769086e+00  -1.58007169e+00   5.64370871e-01   1.84210873e+00\n",
      "   -2.10916981e-01]\n",
      " [  6.88313842e-01  -7.24628985e-01   9.09170985e-01   1.59970963e+00\n",
      "   -1.46872908e-01]\n",
      " [  6.24142051e-01  -7.60430157e-01   2.82684445e+00   7.84432650e-01\n",
      "   -2.88444221e-01]\n",
      " [ -2.65081495e-01  -1.17627120e+00  -9.84634221e-01   3.49110514e-01\n",
      "    9.79384959e-01]\n",
      " [ -5.45938671e-01  -9.37274277e-01  -1.38803995e+00  -1.23519886e+00\n",
      "   -2.29907370e+00]\n",
      " [  1.60634124e+00  -5.61745644e-01  -3.84536326e-01  -1.87370729e+00\n",
      "   -2.25464129e+00]\n",
      " [  1.65505975e-01  -1.47243053e-01   3.90730321e-01  -1.25205025e-01\n",
      "   -2.37681627e-01]\n",
      " [ -9.38938677e-01   1.02800393e+00   7.97048509e-01   9.98025596e-01\n",
      "   -6.64946064e-02]\n",
      " [ -7.43423641e-01   3.47339272e-01  -1.73804998e+00  -7.99204469e-01\n",
      "   -5.26093841e-01]\n",
      " [ -2.75731015e+00   6.02036774e-01  -1.30063856e+00   8.41373563e-01\n",
      "    8.90238106e-01]\n",
      " [  3.16220671e-01  -5.28288841e-01   1.26642346e+00   6.79496586e-01\n",
      "   -1.53686311e-02]\n",
      " [ -9.54349816e-01   6.40057087e-01  -2.58663535e+00  -9.97006595e-01\n",
      "    7.45951772e-01]\n",
      " [ -1.22769602e-01   1.22130632e+00  -9.74933207e-01  -5.88919044e-01\n",
      "   -3.60371381e-01]\n",
      " [ -4.55632180e-01   7.71342158e-01   1.97880769e+00   3.07600021e-01\n",
      "    1.71152949e+00]\n",
      " [  1.52019411e-01   1.20629370e+00  -7.76820704e-02   9.14183795e-01\n",
      "    6.56903505e-01]\n",
      " [ -1.32041538e+00   1.42404079e-01  -1.93016005e+00   1.56535387e+00\n",
      "    2.74548918e-01]\n",
      " [  8.76489043e-01  -2.87027168e+00   7.60116756e-01  -1.44721353e+00\n",
      "    5.52998185e-01]\n",
      " [ -3.31445485e-01   4.78700638e-01  -1.24298549e+00  -1.34413815e+00\n",
      "    1.79182160e+00]\n",
      " [ -3.62064123e-01  -4.85069782e-01   7.59540617e-01  -2.43193850e-01\n",
      "   -6.30082548e-01]\n",
      " [ -7.45603561e-01  -1.55750692e-01   8.46135497e-01  -3.84332061e-01\n",
      "    1.21085517e-01]\n",
      " [ -1.14897883e+00  -9.59103942e-01   5.61402202e-01   1.06782460e+00\n",
      "   -2.88554460e-01]\n",
      " [ -9.19428319e-02   7.42011011e-01  -1.19478977e+00  -3.67115378e-01\n",
      "    2.30437338e-01]\n",
      " [  4.49885458e-01  -1.62175381e+00   2.85974550e+00  -9.57829833e-01\n",
      "   -1.28136396e+00]\n",
      " [ -5.19982755e-01   2.82447648e+00  -8.89307141e-01   1.18633163e+00\n",
      "   -9.78342175e-01]\n",
      " [  9.28811550e-01   1.42252460e-01   9.67256486e-01   2.45184565e+00\n",
      "   -1.97221589e+00]\n",
      " [ -1.16650462e+00  -2.87665057e+00  -2.71159530e+00  -7.78450310e-01\n",
      "    2.55100042e-01]\n",
      " [ -2.10023808e+00   1.80336308e+00   2.32092071e+00   1.45966661e+00\n",
      "    1.62557256e+00]\n",
      " [ -1.08679307e+00   2.89619923e-01  -7.41674423e-01  -1.59385276e+00\n",
      "    1.17975295e-01]\n",
      " [  1.06869996e+00   2.84362376e-01   7.00387716e-01  -1.74620338e-02\n",
      "    2.81515646e+00]\n",
      " [ -4.51000929e-01  -4.24933061e-02  -2.36290050e+00  -1.42073750e-01\n",
      "    1.76228774e+00]\n",
      " [ -1.43153703e+00  -4.44631368e-01  -1.30554903e+00   4.18015867e-01\n",
      "   -1.09077907e+00]\n",
      " [ -2.37404578e-03   1.81811261e+00   5.45819938e-01   2.32346702e+00\n",
      "   -1.15751290e+00]\n",
      " [  1.51208460e+00   4.18228894e-01  -5.77576578e-01  -2.12402388e-01\n",
      "   -7.04245865e-01]]\n",
      "----------\n",
      "[ 0.24434195 -0.50112891  0.57464796  0.07048169 -0.0344648 ]\n",
      "----------\n"
     ]
    }
   ],
   "source": [
    "print(sess.run(W1))\n",
    "print('----------')\n",
    "print(sess.run(b1))\n",
    "print('----------')"
   ]
  },
  {
   "cell_type": "markdown",
   "metadata": {
    "deletable": true,
    "editable": true
   },
   "source": [
    "Lo importante del entrenamiento no es tanto la certeza de predicción sino los valores de los word embeddings."
   ]
  },
  {
   "cell_type": "markdown",
   "metadata": {},
   "source": [
    "Word embeddings + bias"
   ]
  },
  {
   "cell_type": "code",
   "execution_count": 15,
   "metadata": {
    "collapsed": false,
    "deletable": true,
    "editable": true
   },
   "outputs": [
    {
     "name": "stdout",
     "output_type": "stream",
     "text": [
      "[[ -5.13257921e-01  -2.33254671e+00  -1.94713354e-01   4.00009573e-01\n",
      "   -7.21683145e-01]\n",
      " [  1.88999736e+00  -1.30601013e+00   7.98969209e-01  -1.16780305e+00\n",
      "    4.07465138e-02]\n",
      " [  2.78162360e+00   7.36275673e-01  -5.93019783e-01  -9.88402367e-01\n",
      "   -1.63014603e+00]\n",
      " [  2.33000708e+00  -2.14285183e+00   2.45512187e-01  -2.19276905e+00\n",
      "    1.41200650e+00]\n",
      " [ -8.08528781e-01  -2.03660417e+00   2.97201812e-01   2.02113366e+00\n",
      "   -9.27573740e-01]\n",
      " [  1.45728457e+00  -6.58930242e-01  -3.39222550e-02  -2.87015510e+00\n",
      "    1.67200923e+00]\n",
      " [ -5.10286689e-01  -5.20889759e-01   1.48616779e+00   7.46689439e-01\n",
      "   -1.96387696e+00]\n",
      " [  2.61128449e+00  -1.24241304e+00   2.74086928e+00   2.16982007e+00\n",
      "    1.40932119e+00]\n",
      " [ -1.54060411e+00  -6.63955271e-01   1.58142924e+00   2.36456704e+00\n",
      "   -5.58788776e-01]\n",
      " [  9.44628656e-01   1.67371035e-01  -4.72877204e-01  -1.78681269e-01\n",
      "   -5.49205184e-01]\n",
      " [  1.63711178e+00   1.86736703e-01   2.93977469e-01  -8.98720264e-01\n",
      "   -2.27499381e-03]\n",
      " [ -3.01271856e-01  -2.04013586e+00   1.50369930e+00   2.73171842e-01\n",
      "   -6.47957981e-01]\n",
      " [  1.09213483e+00  -1.23240113e+00   1.72030270e-01   1.27871168e+00\n",
      "   -6.23028636e-01]\n",
      " [  2.13392353e+00  -1.87308264e+00   1.58550501e+00   1.86480796e+00\n",
      "    6.25345886e-01]\n",
      " [ -4.40273106e-01   3.90730500e-01   1.07901049e+00  -8.44166160e-01\n",
      "    1.24346030e+00]\n",
      " [ -8.03288221e-01   7.02055693e-01   1.56951785e-01  -2.21888638e+00\n",
      "   -1.68328011e+00]\n",
      " [  1.91208875e+00  -8.66215289e-01   1.47803515e-01  -4.66171712e-01\n",
      "    1.37293684e+00]\n",
      " [  7.57741749e-01  -2.25035810e+00  -2.47780085e-01   2.20601463e+00\n",
      "    7.81460106e-01]\n",
      " [  2.44400039e-01  -1.65516257e+00   1.85227609e+00   8.28327894e-01\n",
      "    1.30007136e+00]\n",
      " [ -9.51677322e-01   2.51695871e-01   3.54538620e-01  -6.22107387e-01\n",
      "    1.36494005e+00]\n",
      " [  3.16918075e-01   4.80227828e-01  -6.41366780e-01   4.23845828e-01\n",
      "    3.50448132e-01]\n",
      " [ -5.77822387e-01   8.12887430e-01   6.61533177e-01   9.30664659e-01\n",
      "   -3.28407675e-01]\n",
      " [ -8.88558745e-01  -1.82688248e+00  -6.93443835e-01  -9.59219217e-01\n",
      "    6.61196828e-01]\n",
      " [ -1.85268939e+00  -5.56769967e-02   2.62463236e+00  -8.67805243e-01\n",
      "   -4.28750180e-02]\n",
      " [ -1.30556092e-01   2.01726317e-01  -2.16015160e-01   2.14516068e+00\n",
      "    3.26566957e-02]\n",
      " [  4.11629677e-01   2.65957713e-02   2.30573130e+00   5.77932954e-01\n",
      "   -6.63668394e-01]\n",
      " [  3.70865017e-01  -1.20839810e+00   1.09538364e+00   7.97645211e-01\n",
      "   -3.40691626e-01]\n",
      " [  1.14920461e+00   8.47518086e-01   2.03183413e+00  -1.27005577e+00\n",
      "   -2.03058457e+00]\n",
      " [ -1.34513557e+00  -7.00013578e-01  -4.49302852e-01  -1.44483387e+00\n",
      "   -1.07699513e+00]\n",
      " [  1.79171371e+00  -1.04511571e+00   1.29253912e+00   8.58944178e-01\n",
      "    1.49985158e+00]\n",
      " [  1.21977389e+00  -3.00282574e+00  -9.76041555e-02  -4.11927015e-01\n",
      "   -1.03015888e+00]\n",
      " [ -1.89979061e-01  -1.39812440e-01   3.90606165e-01   5.37057519e-01\n",
      "   -3.02966684e-01]\n",
      " [  2.57155323e+00  -2.72524285e+00  -2.55147934e-01   1.58840680e+00\n",
      "    1.94888175e+00]\n",
      " [ -7.74687290e-01  -1.13388467e+00   3.39481354e+00  -9.04074192e-01\n",
      "    1.82298017e+00]\n",
      " [ -1.16967714e+00   1.66778207e-01   1.86031604e+00   1.72988367e+00\n",
      "   -6.99533224e-01]\n",
      " [  3.63482326e-01  -1.93554115e+00   1.47372580e+00  -2.40289211e-01\n",
      "    5.53126872e-01]\n",
      " [  9.19654250e-01  -1.14476204e+00  -2.89519548e+00  -9.79850054e-01\n",
      "   -9.46612775e-01]\n",
      " [  4.99649525e-01   1.03785217e+00   5.57999551e-01  -6.89774275e-01\n",
      "   -1.10895777e+00]\n",
      " [  6.77103937e-01  -1.34005797e+00   1.41842699e+00   4.22490016e-02\n",
      "    8.98302913e-01]\n",
      " [  5.36443889e-01   1.91487908e-01  -3.37268651e-01  -2.36863822e-01\n",
      "    1.90986431e+00]\n",
      " [  1.64147449e+00  -1.88590318e-01   3.93153518e-01  -1.09770930e+00\n",
      "    6.39145076e-02]\n",
      " [ -3.80629838e-01  -5.48439384e-01   2.73094505e-01  -2.08864141e+00\n",
      "    1.52349997e+00]\n",
      " [ -1.91185796e+00  -1.18981624e+00   2.01112747e+00   9.08998251e-01\n",
      "    7.75334954e-01]\n",
      " [ -3.88228893e-03  -2.68739200e+00   8.05446386e-01  -1.47489858e+00\n",
      "    7.04465866e-01]\n",
      " [ -1.17719516e-01   3.67790222e-01   1.35086870e+00   6.63193688e-02\n",
      "    1.26363838e+00]\n",
      " [  2.41016197e+00   3.88996780e-01   2.27469850e+00  -2.13685721e-01\n",
      "    2.33946991e+00]\n",
      " [ -1.96757472e+00  -1.38247693e+00   2.73230076e+00  -3.09767902e-01\n",
      "    1.54272750e-01]\n",
      " [  1.10733843e+00  -3.77360106e-01   1.18057930e+00  -2.24006385e-01\n",
      "    8.12293530e-01]\n",
      " [ -5.16146719e-01   4.36561406e-01   1.27276349e+00   2.09018254e+00\n",
      "    1.83888698e+00]\n",
      " [ -4.19168323e-02  -4.76027548e-01   6.36443436e-01   2.14306045e+00\n",
      "   -9.53216434e-01]\n",
      " [  4.87285793e-01  -1.11397803e+00  -2.51497984e-01   1.09674919e+00\n",
      "    5.16960502e-01]\n",
      " [  8.31922144e-02  -8.76909554e-01   9.37875450e-01  -2.12221217e+00\n",
      "   -1.19859397e+00]\n",
      " [  8.67284983e-02   1.01387501e-01  -1.21619439e+00  -2.42396688e+00\n",
      "    2.99741000e-01]\n",
      " [ -7.92068601e-01   9.75241542e-01   4.03201342e-01  -5.88961482e-01\n",
      "    1.26441729e+00]\n",
      " [ -1.73804808e+00  -1.53570151e+00  -1.68492675e+00   3.04491460e-01\n",
      "   -4.51912224e-01]\n",
      " [  1.55331779e+00  -1.66491926e-01   5.88454545e-01  -1.42461717e+00\n",
      "    5.85108757e-01]\n",
      " [ -1.13554940e-01  -1.63916683e+00   2.11157888e-01   6.71622396e-01\n",
      "    1.58243287e+00]\n",
      " [  2.04267770e-01  -8.86006117e-01   1.10963392e+00  -3.76640782e-02\n",
      "    1.46118629e+00]\n",
      " [  7.71940470e-01  -7.78452992e-01   1.58609247e+00   1.97605765e+00\n",
      "   -1.25722837e+00]\n",
      " [ -1.01955914e+00   2.86051750e-01   2.00855947e+00   7.72580147e-01\n",
      "   -4.93020177e-01]\n",
      " [ -1.54673564e+00  -1.35479486e+00  -1.67075217e-01  -5.27468681e-01\n",
      "   -3.45820099e-01]\n",
      " [  7.60818899e-01  -8.07792842e-01   2.04777718e+00   4.36963379e-01\n",
      "   -4.20340061e-01]\n",
      " [ -9.55673456e-01  -1.33951807e+00   5.30006111e-01   1.59845722e+00\n",
      "    6.62773132e-01]\n",
      " [ -1.42441675e-01  -1.34666419e+00   1.27991486e+00   1.06595314e+00\n",
      "    9.69512522e-01]\n",
      " [  1.87881291e+00   1.12907255e+00   1.76258469e+00  -1.98910892e+00\n",
      "   -6.43993258e-01]\n",
      " [ -4.25175667e-01  -4.16937590e-01  -7.95250475e-01  -1.42423177e+00\n",
      "    1.04004908e+00]\n",
      " [  1.72607827e+00   2.28593946e-01   7.40532100e-01  -1.52551389e+00\n",
      "    3.73773754e-01]\n",
      " [ -1.88051665e+00  -2.78437436e-01  -1.29002166e+00   1.00388205e+00\n",
      "   -1.47267252e-01]\n",
      " [ -1.61154258e+00   1.98999822e-01  -7.12871552e-04  -2.99211049e+00\n",
      "    3.41521531e-01]\n",
      " [ -8.11850071e-01  -1.85031366e+00   4.95237559e-01  -9.07581210e-01\n",
      "   -1.28515697e+00]\n",
      " [  6.13968074e-01  -1.26427841e+00  -6.35731220e-03   6.90926909e-01\n",
      "   -1.42355692e+00]\n",
      " [ -7.39342272e-01  -1.70207047e+00   1.37144387e-01   7.34219432e-01\n",
      "   -1.31311759e-01]\n",
      " [ -6.97091162e-01  -2.18407631e+00  -7.22176731e-01   1.38893342e+00\n",
      "    4.23614271e-02]\n",
      " [ -6.50002718e-01  -1.87652087e+00   2.01530790e+00  -1.51156664e+00\n",
      "    1.45778346e+00]\n",
      " [  6.15904570e-01  -5.55053711e-01  -6.75711572e-01   3.27629542e+00\n",
      "   -6.40340507e-01]\n",
      " [  5.18408477e-01  -3.33532780e-01   6.66598558e-01   5.71437240e-01\n",
      "    5.68606071e-02]\n",
      " [  2.24058652e+00  -1.20143652e+00  -4.20476198e-01   2.20857024e+00\n",
      "    1.18045986e+00]\n",
      " [ -5.45677722e-01  -3.88985968e+00   7.69161940e-01   1.33102819e-01\n",
      "   -9.72463727e-01]\n",
      " [ -7.80173302e-01   1.08845592e-01   1.26001382e+00   1.19327176e+00\n",
      "    2.60039020e+00]\n",
      " [  1.18224847e+00   1.98706555e+00   5.04581928e-02   3.06591481e-01\n",
      "    8.63097906e-02]\n",
      " [  2.80250549e+00   4.91173685e-01   1.09926915e+00  -6.85125709e-01\n",
      "    1.27683544e+00]\n",
      " [ -3.12211573e-01  -8.56345296e-01   1.97243762e+00   8.83177280e-01\n",
      "   -1.38742638e+00]\n",
      " [  8.36110234e-01   2.36876726e-01  -1.55373192e+00   1.24327278e+00\n",
      "    1.06689155e+00]\n",
      " [ -8.53968710e-02  -9.88249540e-01  -2.28608584e+00   3.34408283e-01\n",
      "    4.24472600e-01]\n",
      " [ -2.98276830e+00  -1.91685748e+00   1.64095497e+00  -2.40366220e-01\n",
      "   -5.16247272e-01]\n",
      " [ -1.47720039e+00   1.90370464e+00  -6.80993199e-02   6.08541369e-01\n",
      "    1.38367760e+00]\n",
      " [  3.61961067e-01   6.17083430e-01   1.68975592e+00   6.29861474e-01\n",
      "   -4.60986733e-01]\n",
      " [  2.29678774e+00  -6.29038632e-01   1.12319171e+00  -1.70414329e+00\n",
      "   -8.56279612e-01]\n",
      " [ -9.67958093e-01   5.66478372e-01  -1.49482608e+00   3.74579966e-01\n",
      "    1.28157115e+00]\n",
      " [  6.72237277e-01   5.79189897e-01  -8.28324974e-01   3.05635715e+00\n",
      "   -1.88491368e+00]\n",
      " [  2.24121857e+00  -2.09234476e-01   8.90356421e-01   1.26872194e+00\n",
      "   -1.15448952e-01]\n",
      " [ -4.96637285e-01  -9.73634839e-01   1.82604527e+00  -1.76285005e+00\n",
      "   -1.94090211e+00]\n",
      " [ -1.26911551e-02   6.90954447e-01  -6.18919075e-01   8.80896568e-01\n",
      "    3.56708139e-01]\n",
      " [  4.29390550e-01  -9.10231471e-02   5.00572860e-01  -5.23975015e-01\n",
      "   -1.31819451e+00]\n",
      " [  3.05203271e+00  -2.08120060e+00   1.13901877e+00   1.91259038e+00\n",
      "   -2.45381773e-01]\n",
      " [  9.32655811e-01  -1.22575784e+00   1.48381901e+00   1.67019129e+00\n",
      "   -1.81337699e-01]\n",
      " [  8.68484020e-01  -1.26155901e+00   3.40149236e+00   8.54914308e-01\n",
      "   -3.22909027e-01]\n",
      " [ -2.07395405e-02  -1.67740011e+00  -4.09986258e-01   4.19592202e-01\n",
      "    9.44920182e-01]\n",
      " [ -3.01596701e-01  -1.43840313e+00  -8.13391984e-01  -1.16471720e+00\n",
      "   -2.33353853e+00]\n",
      " [  1.85068321e+00  -1.06287456e+00   1.90111637e-01  -1.80322564e+00\n",
      "   -2.28910613e+00]\n",
      " [  4.09847915e-01  -6.48371935e-01   9.65378284e-01  -5.47233373e-02\n",
      "   -2.72146434e-01]\n",
      " [ -6.94596708e-01   5.26875019e-01   1.37169647e+00   1.06850731e+00\n",
      "   -1.00959405e-01]\n",
      " [ -4.99081671e-01  -1.53789639e-01  -1.16340208e+00  -7.28722811e-01\n",
      "   -5.60558617e-01]\n",
      " [ -2.51296830e+00   1.00907862e-01  -7.25990593e-01   9.11855221e-01\n",
      "    8.55773330e-01]\n",
      " [  5.60562611e-01  -1.02941775e+00   1.84107137e+00   7.49978304e-01\n",
      "   -4.98334244e-02]\n",
      " [ -7.10007846e-01   1.38928175e-01  -2.01198745e+00  -9.26524878e-01\n",
      "    7.11486995e-01]\n",
      " [  1.21572353e-01   7.20177412e-01  -4.00285244e-01  -5.18437386e-01\n",
      "   -3.94836187e-01]\n",
      " [ -2.11290225e-01   2.70213246e-01   2.55345559e+00   3.78081709e-01\n",
      "    1.67706466e+00]\n",
      " [  3.96361351e-01   7.05164790e-01   4.96965885e-01   9.84665513e-01\n",
      "    6.22438729e-01]\n",
      " [ -1.07607341e+00  -3.58724833e-01  -1.35551214e+00   1.63583553e+00\n",
      "    2.40084127e-01]\n",
      " [  1.12083101e+00  -3.37140059e+00   1.33476472e+00  -1.37673187e+00\n",
      "    5.18533409e-01]\n",
      " [ -8.71035308e-02  -2.24282742e-02  -6.68337524e-01  -1.27365649e+00\n",
      "    1.75735676e+00]\n",
      " [ -1.17722169e-01  -9.86198664e-01   1.33418858e+00  -1.72712162e-01\n",
      "   -6.64547324e-01]\n",
      " [ -5.01261592e-01  -6.56879604e-01   1.42078352e+00  -3.13850373e-01\n",
      "    8.66207182e-02]\n",
      " [ -9.04636860e-01  -1.46023285e+00   1.13605022e+00   1.13830626e+00\n",
      "   -3.23019266e-01]\n",
      " [  1.52399123e-01   2.40882099e-01  -6.20141804e-01  -2.96633691e-01\n",
      "    1.95972547e-01]\n",
      " [  6.94227397e-01  -2.12288284e+00   3.43439341e+00  -8.87348175e-01\n",
      "   -1.31582880e+00]\n",
      " [ -2.75640786e-01   2.32334757e+00  -3.14659178e-01   1.25681329e+00\n",
      "   -1.01280701e+00]\n",
      " [  1.17315352e+00  -3.58876467e-01   1.54190445e+00   2.52232742e+00\n",
      "   -2.00668073e+00]\n",
      " [ -9.22162652e-01  -3.37777948e+00  -2.13694739e+00  -7.07968593e-01\n",
      "    2.20635250e-01]\n",
      " [ -1.85589612e+00   1.30223417e+00   2.89556861e+00   1.53014827e+00\n",
      "    1.59110773e+00]\n",
      " [ -8.42451096e-01  -2.11508989e-01  -1.67026460e-01  -1.52337110e+00\n",
      "    8.35105032e-02]\n",
      " [  1.31304193e+00  -2.16766536e-01   1.27503562e+00   5.30196540e-02\n",
      "    2.78069162e+00]\n",
      " [ -2.06658974e-01  -5.43622196e-01  -1.78825259e+00  -7.15920627e-02\n",
      "    1.72782290e+00]\n",
      " [ -1.18719506e+00  -9.45760250e-01  -7.30901062e-01   4.88497555e-01\n",
      "   -1.12524390e+00]\n",
      " [  2.41967902e-01   1.31698370e+00   1.12046790e+00   2.39394879e+00\n",
      "   -1.19197774e+00]\n",
      " [  1.75642657e+00  -8.29000175e-02  -2.92861462e-03  -1.41920701e-01\n",
      "   -7.38710642e-01]]\n"
     ]
    }
   ],
   "source": [
    "vectors = sess.run(W1 + b1)\n",
    "print(vectors)"
   ]
  },
  {
   "cell_type": "markdown",
   "metadata": {},
   "source": [
    "Word embedding de `libro`"
   ]
  },
  {
   "cell_type": "code",
   "execution_count": 16,
   "metadata": {
    "collapsed": false,
    "deletable": true,
    "editable": true
   },
   "outputs": [
    {
     "name": "stdout",
     "output_type": "stream",
     "text": [
      "[ 1.72607827  0.22859395  0.7405321  -1.52551389  0.37377375]\n"
     ]
    }
   ],
   "source": [
    "print(vectors[ word2int['vida'] ])"
   ]
  },
  {
   "cell_type": "markdown",
   "metadata": {},
   "source": [
    "# Gráficas\n",
    "\n",
    "Para reducción de dimensionalidad y poder mostrar en una gráfica 2D."
   ]
  },
  {
   "cell_type": "code",
   "execution_count": 17,
   "metadata": {
    "collapsed": false,
    "deletable": true,
    "editable": true
   },
   "outputs": [],
   "source": [
    "from sklearn.manifold import TSNE\n",
    "model = TSNE(n_components=2, random_state=42)\n",
    "np.set_printoptions(suppress=True)\n",
    "vectors = model.fit_transform(vectors)\n"
   ]
  },
  {
   "cell_type": "code",
   "execution_count": 18,
   "metadata": {
    "collapsed": true,
    "deletable": true,
    "editable": true
   },
   "outputs": [],
   "source": [
    "from sklearn import preprocessing\n",
    "normalizer = preprocessing.Normalizer()\n",
    "vectors =  normalizer.fit_transform(vectors, 'l2')"
   ]
  },
  {
   "cell_type": "code",
   "execution_count": 19,
   "metadata": {
    "collapsed": false,
    "deletable": true,
    "editable": true
   },
   "outputs": [
    {
     "name": "stdout",
     "output_type": "stream",
     "text": [
      "dirige [ 0.43382173 -0.90099873]\n",
      "principal [ 0.97792407 -0.20896056]\n",
      "anticipacion [-0.22621365  0.97407771]\n",
      "persona [ 0.96162539  0.27436583]\n",
      "alumbre [-0.13219212 -0.99122411]\n",
      "es [ 0.98817887  0.1533053 ]\n",
      "en [-0.84893335 -0.52849992]\n",
      "tanto [-0.63482035 -0.77265977]\n",
      "lo [-0.68269008 -0.73070805]\n",
      "resurreccion [-0.66962001  0.74270387]\n",
      "soledad [-0.83737196 -0.54663351]\n",
      "cuando [-0.51808623  0.85532839]\n",
      "vez [ 0.13602017 -0.99070607]\n",
      "al [-0.92409305 -0.38216755]\n",
      "tiempo [ 0.88688934 -0.46198193]\n",
      "aprovecharlo [-0.36015682  0.93289178]\n",
      "destino [ 0.69774704 -0.71634424]\n",
      "no [-0.69928353  0.71484442]\n",
      "pasar [-0.60611697 -0.79537552]\n",
      "para [-0.94285849  0.33319343]\n",
      "oscuridad [-0.93681967  0.34981266]\n",
      "luciernagas [ 0.17511885  0.9845473 ]\n",
      "excepcion [-0.47476511 -0.88011255]\n",
      "pocas [ 0.8995131  -0.43689379]\n",
      "falta [ 0.05593494  0.99843442]\n",
      "aquel [-0.004075  -0.9999917]\n",
      "expia [-0.36250643  0.93198127]\n",
      "cada [ 0.34897626 -0.93713157]\n",
      "procura [-0.03186708  0.99949212]\n",
      "trae [-0.99968727  0.02500737]\n",
      "aunque [ 0.06474143 -0.99790207]\n",
      "se [ 0.28916317  0.95727983]\n",
      "ni [-0.790578    0.61236135]\n",
      "caminar [ 0.5054445  -0.86285912]\n",
      "religiones [ 0.06665779 -0.9977759 ]\n",
      "piensan [ 0.82186829 -0.56967755]\n",
      "propia [-0.9268698   0.37538297]\n",
      "aplazada [-0.99383809 -0.11084157]\n",
      "olvida [-0.15263695 -0.98828233]\n",
      "dia [ 0.9974534  -0.07132123]\n",
      "felicidad [ 0.9938677   0.11057575]\n",
      "un [ 0.89421585  0.44763603]\n",
      "llegan [ 0.8473727  -0.53099859]\n",
      "sobre [ 0.831524   -0.55548882]\n",
      "el [ 0.62817863 -0.77806916]\n",
      "toda [ 0.99316614 -0.1167091 ]\n",
      "pensamos [-0.26016814 -0.96556333]\n",
      "solo [ 0.64339653 -0.76553308]\n",
      "uno [ 0.75860907  0.65154607]\n",
      "madruga [-0.77598133  0.63075587]\n",
      "que [-0.97118457  0.23832863]\n",
      "y [ 0.67700642  0.73597711]\n",
      "ausencia [ 0.94865194  0.31632182]\n",
      "infierno [ 0.32735485  0.94490148]\n",
      "ningun [-0.71104228  0.70314925]\n",
      "solamente [ 0.99848703 -0.0549878 ]\n",
      "hombres [-0.99106219 -0.13340065]\n",
      "vulgares [ 0.59919571  0.80060258]\n",
      "tenemos [ 0.74713163 -0.6646761 ]\n",
      "como [-0.0533865  -0.99857392]\n",
      "ser [-0.93481329  0.35513956]\n",
      "algo [ 0.39225608 -0.91985606]\n",
      "sabe [ 0.46040511  0.88770893]\n",
      "puerto [ 0.98229023 -0.18736571]\n",
      "una [ 0.45068497 -0.89268307]\n",
      "del [-0.98941803  0.14509297]\n",
      "vida [ 0.99997199  0.00748408]\n",
      "viento [ 0.4263028   0.90458052]\n",
      "inteligente [-0.88215452  0.47096009]\n",
      "echate [-0.4901469   0.87163984]\n",
      "maravilla [-0.24938411  0.96840465]\n",
      "duerme [ 0.97362857  0.22813902]\n",
      "mucho [ 0.20440444 -0.97888652]\n",
      "dormir [ 0.60389916 -0.79706073]\n",
      "otro [-0.05664309  0.99839449]\n",
      "maldad [-0.83682692  0.54746754]\n",
      "queme [-0.9949393   0.10047785]\n",
      "eso [-0.48935148 -0.87208665]\n",
      "animales [ 0.70443509  0.70976842]\n",
      "la [ 0.78124006  0.6242307 ]\n",
      "sufrimiento [ 0.97725617 -0.21206221]\n",
      "este [-0.87941736 -0.47605158]\n",
      "todos [-0.99621659  0.0869051 ]\n",
      "su [-0.96390207  0.26625701]\n",
      "veces [-0.71992027 -0.69405678]\n",
      "brillar [ 0.52362518  0.85194875]\n",
      "pero [-0.18703814 -0.98235265]\n",
      "partida [ 0.96950231  0.24508215]\n",
      "excelentes [-0.63524806  0.77230817]\n",
      "seres [-0.1899039   0.98180268]\n",
      "levita [-0.99934239 -0.03626002]\n",
      "fama [ 0.74323654  0.66902873]\n",
      "los [-0.4340266  -0.90090006]\n",
      "muerte [ 0.91780106  0.39704056]\n",
      "santo [-0.7349264  -0.67814688]\n",
      "dice [-0.85595147 -0.51705618]\n",
      "mundo [ 0.99965702  0.02618853]\n",
      "todo [ 0.84577036 -0.53354709]\n",
      "crea [ 0.96102131  0.27647432]\n",
      "encuentro [ 0.95407771 -0.29955921]\n",
      "estupidez [-0.94962488 -0.31338888]\n",
      "cartas [ 0.08548814 -0.99633919]\n",
      "hecho [ 0.09223084  0.99573765]\n",
      "favorable [-0.67322203 -0.7394404 ]\n",
      "siempre [-0.93370366 -0.35804674]\n",
      "dolor [ 0.96030482  0.27895279]\n",
      "tierra [-0.40740108  0.91324934]\n",
      "nosotros [ 0.35349825 -0.93543519]\n",
      "baraja [-0.24285951  0.97006147]\n",
      "hay [-0.99344783  0.11428656]\n",
      "piernas [ 0.87945736 -0.47597769]\n",
      "ha [ 0.78306616  0.62193841]\n",
      "a [-0.22336037 -0.97473594]\n",
      "aprende [-0.82092212  0.57104017]\n",
      "concibe [ 0.93604925  0.35186902]\n",
      "de [ 0.23777065  0.97132133]\n",
      "dos [-0.51621398 -0.85645964]\n",
      "necesitan [ 0.42646583  0.90450368]\n",
      "nos [-0.95909137 -0.2830967 ]\n",
      "existencia [-0.35682284 -0.93417207]\n",
      "las [-0.99578053 -0.09176672]\n",
      "hombre [ 0.87411054  0.48572705]\n",
      "entero [ 0.62953906  0.77696884]\n",
      "espiritus [-0.88936294  0.45720188]\n",
      "signifique [ 0.22974531  0.97325079]\n",
      "jugamos [-0.70446166 -0.70974204]\n",
      "suerte [-0.50664363  0.86215557]\n"
     ]
    },
    {
     "data": {
      "image/png": "[encoded data removed]",
      "text/plain": [
       "<matplotlib.figure.Figure at 0x7f4a8f668a20>"
      ]
     },
     "metadata": {},
     "output_type": "display_data"
    }
   ],
   "source": [
    "\n",
    "\n",
    "import matplotlib.pyplot as plt\n",
    "%matplotlib inline \n",
    "fig, ax = plt.subplots()\n",
    "for word in words:\n",
    "    print(word, vectors[word2int[word]])\n",
    "    ax.annotate(word, (vectors[word2int[word]][0],vectors[word2int[word]][1] ))\n",
    "    plt.scatter(vectors[word2int[word]][0],vectors[word2int[word]][1])\n",
    "    \n",
    "plt.savefig('w2v')\n",
    "plt.show()"
   ]
  },
  {
   "cell_type": "code",
   "execution_count": null,
   "metadata": {
    "collapsed": true
   },
   "outputs": [],
   "source": []
  }
 ],
 "metadata": {
  "kernelspec": {
   "display_name": "Python 3",
   "language": "python",
   "name": "python3"
  },
  "language_info": {
   "codemirror_mode": {
    "name": "ipython",
    "version": 3
   },
   "file_extension": ".py",
   "mimetype": "text/x-python",
   "name": "python",
   "nbconvert_exporter": "python",
   "pygments_lexer": "ipython3",
   "version": "3.5.2+"
  }
 },
 "nbformat": 4,
 "nbformat_minor": 2
}
